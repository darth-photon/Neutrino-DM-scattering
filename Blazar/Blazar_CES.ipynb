{
 "cells": [
  {
   "cell_type": "code",
   "execution_count": 2,
   "metadata": {},
   "outputs": [
    {
     "name": "stdout",
     "output_type": "stream",
     "text": [
      "  ______     ___           _______.  ______     ___       _______   _______ \n",
      " /      |   /   \\         /       | /      |   /   \\     |       \\ |   ____|\n",
      "|  ,----'  /  ^  \\       |   (----`|  ,----'  /  ^  \\    |  .--.  ||  |__   \n",
      "|  |      /  /_\\  \\       \\   \\    |  |      /  /_\\  \\   |  |  |  ||   __|  \n",
      "|  `----./  _____  \\  .----)   |   |  `----./  _____  \\  |  '--'  ||  |____ \n",
      " \\______/__/     \\__\\ |_______/     \\______/__/     \\__\\ |_______/ |_______|\n",
      "                                                                            \n",
      "     _______.  ______    __      ____    ____  _______ .______      \n",
      "    /       | /  __  \\  |  |     \\   \\  /   / |   ____||   _  \\     \n",
      "   |   (----`|  |  |  | |  |      \\   \\/   /  |  |__   |  |_)  |    \n",
      "    \\   \\    |  |  |  | |  |       \\      /   |   __|  |      /     \n",
      ".----)   |   |  `--'  | |  `----.   \\    /    |  |____ |  |\\  \\----.\n",
      "|_______/     \\______/  |_______|    \\__/     |_______|| _| `._____|\n",
      "                                                                    \n",
      "\n",
      "*******************************************\n",
      "Dark Matter - Neutrino Scattering in Blazars\n",
      "\n",
      "Author: シヴァサンカール ShivaSankar K.A \n",
      "\n",
      "Affiliation: 素粒子物理、北海道大学\n",
      "\n",
      "Email: shivasankar.ka@gmail.com\n",
      "*******************************************\n",
      "done\n"
     ]
    }
   ],
   "source": [
    "import sys\n",
    "src_path = \"../\"\n",
    "sys.path.append(src_path)\n",
    "from blazar import *"
   ]
  },
  {
   "cell_type": "code",
   "execution_count": 3,
   "metadata": {},
   "outputs": [],
   "source": [
    "# ces = ces()\n",
    "model = Model(\"blazar\", path=\"./\")"
   ]
  },
  {
   "cell_type": "code",
   "execution_count": 4,
   "metadata": {},
   "outputs": [
    {
     "name": "stdout",
     "output_type": "stream",
     "text": [
      "Flux intialized: 10**(-F0 - (F1*np.log10(x))/(1 + F2 * np.abs(np.log10(x))**F3))\n",
      "Cross section intialized: (a/b)*(1 - 1/(2*b*E) * np.log(1 + 2*b* E))\n",
      "Flux Intialized: a*(E[i]/x)* 1/((1 + 2*b*(x-E[i]))**2)\n"
     ]
    }
   ],
   "source": [
    "model.add_input(\n",
    "flux=\"10**(-F0 - (F1*np.log10(x))/(1 + F2 * np.abs(np.log10(x))**F3))\",\n",
    "cross_section = \"(a/b)*(1 - 1/(2*b*E) * np.log(1 + 2*b* E))\",\n",
    "diff_cross_section = \"a*(E[i]/x)* 1/((1 + 2*b*(x-E[i]))**2)\"\n",
    "           )"
   ]
  },
  {
   "cell_type": "code",
   "execution_count": null,
   "metadata": {},
   "outputs": [],
   "source": []
  }
 ],
 "metadata": {
  "kernelspec": {
   "display_name": "photon",
   "language": "python",
   "name": "python3"
  },
  "language_info": {
   "codemirror_mode": {
    "name": "ipython",
    "version": 3
   },
   "file_extension": ".py",
   "mimetype": "text/x-python",
   "name": "python",
   "nbconvert_exporter": "python",
   "pygments_lexer": "ipython3",
   "version": "3.10.4"
  },
  "orig_nbformat": 4
 },
 "nbformat": 4,
 "nbformat_minor": 2
}
