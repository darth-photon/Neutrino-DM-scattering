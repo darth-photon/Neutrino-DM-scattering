{
 "cells": [
  {
   "cell_type": "code",
   "execution_count": null,
   "metadata": {},
   "outputs": [],
   "source": [
    "import sys\n",
    "src_path = \"../\"\n",
    "sys.path.append(src_path)\n",
    "from blazar import *"
   ]
  },
  {
   "cell_type": "code",
   "execution_count": null,
   "metadata": {},
   "outputs": [],
   "source": [
    "model = Model(\"blazar\", path=\"./\")\n",
    "ces = ces()"
   ]
  },
  {
   "cell_type": "code",
   "execution_count": null,
   "metadata": {},
   "outputs": [],
   "source": [
    "F0 = 13.22\n",
    "F1 = 1.498\n",
    "F2 = -0.00167\n",
    "F3 = 4.119\n",
    "\n",
    "model.add_input(\n",
    "flux=\"10**(-\"+str(F0)+\" - (\"+str(F1)+\"*np.log10(E))/(1 + \"+str(F2)+\" * np.abs(np.log10(E))**\"+str(F3)+\"))\",\n",
    "cross_section=\"(a/b)*(1 - 1/(2*b*E) * np.log(1 + 2*b* E))\",\n",
    "diff_cross_section=\"a*(E/x)*1/((1+2*b*(x-E))**2)\",\n",
    "Effective_area=\"10**(3.57 + 2.007*np.log10(E) -0.5263* np.log10(E)**2 +0.0922 * np.log10(E)**3 -0.0072* np.log10(E)**4)\")"
   ]
  },
  {
   "cell_type": "code",
   "execution_count": null,
   "metadata": {},
   "outputs": [],
   "source": [
    "ces.set_model(model=model)"
   ]
  },
  {
   "cell_type": "code",
   "execution_count": 6,
   "metadata": {},
   "outputs": [
    {
     "name": "stdout",
     "output_type": "stream",
     "text": [
      "Calculating........."
     ]
    },
    {
     "ename": "KeyboardInterrupt",
     "evalue": "",
     "output_type": "error",
     "traceback": [
      "\u001b[0;31m---------------------------------------------------------------------------\u001b[0m",
      "\u001b[0;31mKeyboardInterrupt\u001b[0m                         Traceback (most recent call last)",
      "Cell \u001b[0;32mIn[6], line 1\u001b[0m\n\u001b[0;32m----> 1\u001b[0m ces\u001b[39m.\u001b[39;49mevents(Emin\u001b[39m=\u001b[39;49m\u001b[39m290\u001b[39;49m,Emax\u001b[39m=\u001b[39;49m\u001b[39m10\u001b[39;49m\u001b[39m*\u001b[39;49m\u001b[39m*\u001b[39;49m\u001b[39m4\u001b[39;49m,t_obs\u001b[39m=\u001b[39;49m \u001b[39m898\u001b[39;49m\u001b[39m*\u001b[39;49m\u001b[39m24\u001b[39;49m\u001b[39m*\u001b[39;49m\u001b[39m3600\u001b[39;49m)\n",
      "File \u001b[0;32m~/Documents/Research_work/Neutrino-GRB's/Neutrino-DM-scattering/Blazar/../blazar.py:129\u001b[0m, in \u001b[0;36mces.events\u001b[0;34m(self, Emin, Emax, t_obs)\u001b[0m\n\u001b[1;32m    127\u001b[0m \u001b[39mfor\u001b[39;00m j \u001b[39min\u001b[39;00m \u001b[39mrange\u001b[39m(N):\n\u001b[1;32m    128\u001b[0m     tmp\u001b[39m=\u001b[39m\u001b[39m0.0\u001b[39m\n\u001b[0;32m--> 129\u001b[0m     tmp \u001b[39m=\u001b[39m np\u001b[39m.\u001b[39msum(t_obs\u001b[39m*\u001b[39m \u001b[39mself\u001b[39;49m\u001b[39m.\u001b[39;49meigcalc(enn,\u001b[39m10\u001b[39;49m, Aval[i],Bval[j])\u001b[39m*\u001b[39m\u001b[39mself\u001b[39m\u001b[39m.\u001b[39meff_area(enn))\u001b[39m*\u001b[39mdeltaE\n\u001b[1;32m    130\u001b[0m     \u001b[39mprint\u001b[39m(\u001b[39m\"\u001b[39m\u001b[39m\\r\u001b[39;00m\u001b[39mCalculating\u001b[39m\u001b[39m\"\u001b[39m \u001b[39m+\u001b[39m \u001b[39m\"\u001b[39m\u001b[39m.\u001b[39m\u001b[39m\"\u001b[39m \u001b[39m*\u001b[39m j, end\u001b[39m=\u001b[39m\u001b[39m\"\u001b[39m\u001b[39m\"\u001b[39m)\n\u001b[1;32m    131\u001b[0m     data \u001b[39m=\u001b[39m [Aval[i], Bval[j], tmp]\n",
      "File \u001b[0;32m~/Documents/Research_work/Neutrino-GRB's/Neutrino-DM-scattering/Blazar/../blazar.py:78\u001b[0m, in \u001b[0;36mces.eigcalc\u001b[0;34m(self, Energy, num, a, b)\u001b[0m\n\u001b[1;32m     73\u001b[0m \u001b[39mfor\u001b[39;00m i \u001b[39min\u001b[39;00m \u001b[39mrange\u001b[39m(num):\n\u001b[1;32m     74\u001b[0m     \u001b[39m# ran = np.linspace(E[i], 10**4, 5000)\u001b[39;00m\n\u001b[1;32m     75\u001b[0m     \u001b[39m# tot = np.diff(ran)[1] * np.sum([self.dxs_eval(E[i],x,a,b) for x in ran])\u001b[39;00m\n\u001b[1;32m     76\u001b[0m     \u001b[39mfor\u001b[39;00m j \u001b[39min\u001b[39;00m \u001b[39mrange\u001b[39m(num): \n\u001b[1;32m     77\u001b[0m         \u001b[39m# dxs_array[i][j] = tot\u001b[39;00m\n\u001b[0;32m---> 78\u001b[0m         dxs_array[i][j] \u001b[39m=\u001b[39m quad(\u001b[39mlambda\u001b[39;49;00m x: \u001b[39mself\u001b[39;49m\u001b[39m.\u001b[39;49mdxs_eval(E[i],x,a,b),E[i],\u001b[39m10\u001b[39;49m\u001b[39m*\u001b[39;49m\u001b[39m*\u001b[39;49m\u001b[39m4\u001b[39;49m)[\u001b[39m0\u001b[39m]\n\u001b[1;32m     80\u001b[0m \u001b[39m#getting the RHS matrix using cas.py\u001b[39;00m\n\u001b[1;32m     81\u001b[0m \u001b[39m# RHN = self.RHS_matrices(E, dxs_array)\u001b[39;00m\n\u001b[1;32m     83\u001b[0m DeltaE \u001b[39m=\u001b[39m np\u001b[39m.\u001b[39mdiff(np\u001b[39m.\u001b[39mlog(E))\n",
      "File \u001b[0;32m~/opt/anaconda3/envs/photon/lib/python3.10/site-packages/scipy/integrate/_quadpack_py.py:411\u001b[0m, in \u001b[0;36mquad\u001b[0;34m(func, a, b, args, full_output, epsabs, epsrel, limit, points, weight, wvar, wopts, maxp1, limlst)\u001b[0m\n\u001b[1;32m    408\u001b[0m flip, a, b \u001b[39m=\u001b[39m b \u001b[39m<\u001b[39m a, \u001b[39mmin\u001b[39m(a, b), \u001b[39mmax\u001b[39m(a, b)\n\u001b[1;32m    410\u001b[0m \u001b[39mif\u001b[39;00m weight \u001b[39mis\u001b[39;00m \u001b[39mNone\u001b[39;00m:\n\u001b[0;32m--> 411\u001b[0m     retval \u001b[39m=\u001b[39m _quad(func, a, b, args, full_output, epsabs, epsrel, limit,\n\u001b[1;32m    412\u001b[0m                    points)\n\u001b[1;32m    413\u001b[0m \u001b[39melse\u001b[39;00m:\n\u001b[1;32m    414\u001b[0m     \u001b[39mif\u001b[39;00m points \u001b[39mis\u001b[39;00m \u001b[39mnot\u001b[39;00m \u001b[39mNone\u001b[39;00m:\n",
      "File \u001b[0;32m~/opt/anaconda3/envs/photon/lib/python3.10/site-packages/scipy/integrate/_quadpack_py.py:523\u001b[0m, in \u001b[0;36m_quad\u001b[0;34m(func, a, b, args, full_output, epsabs, epsrel, limit, points)\u001b[0m\n\u001b[1;32m    521\u001b[0m \u001b[39mif\u001b[39;00m points \u001b[39mis\u001b[39;00m \u001b[39mNone\u001b[39;00m:\n\u001b[1;32m    522\u001b[0m     \u001b[39mif\u001b[39;00m infbounds \u001b[39m==\u001b[39m \u001b[39m0\u001b[39m:\n\u001b[0;32m--> 523\u001b[0m         \u001b[39mreturn\u001b[39;00m _quadpack\u001b[39m.\u001b[39;49m_qagse(func,a,b,args,full_output,epsabs,epsrel,limit)\n\u001b[1;32m    524\u001b[0m     \u001b[39melse\u001b[39;00m:\n\u001b[1;32m    525\u001b[0m         \u001b[39mreturn\u001b[39;00m _quadpack\u001b[39m.\u001b[39m_qagie(func,bound,infbounds,args,full_output,epsabs,epsrel,limit)\n",
      "File \u001b[0;32m~/Documents/Research_work/Neutrino-GRB's/Neutrino-DM-scattering/Blazar/../blazar.py:78\u001b[0m, in \u001b[0;36mces.eigcalc.<locals>.<lambda>\u001b[0;34m(x)\u001b[0m\n\u001b[1;32m     73\u001b[0m \u001b[39mfor\u001b[39;00m i \u001b[39min\u001b[39;00m \u001b[39mrange\u001b[39m(num):\n\u001b[1;32m     74\u001b[0m     \u001b[39m# ran = np.linspace(E[i], 10**4, 5000)\u001b[39;00m\n\u001b[1;32m     75\u001b[0m     \u001b[39m# tot = np.diff(ran)[1] * np.sum([self.dxs_eval(E[i],x,a,b) for x in ran])\u001b[39;00m\n\u001b[1;32m     76\u001b[0m     \u001b[39mfor\u001b[39;00m j \u001b[39min\u001b[39;00m \u001b[39mrange\u001b[39m(num): \n\u001b[1;32m     77\u001b[0m         \u001b[39m# dxs_array[i][j] = tot\u001b[39;00m\n\u001b[0;32m---> 78\u001b[0m         dxs_array[i][j] \u001b[39m=\u001b[39m quad(\u001b[39mlambda\u001b[39;00m x: \u001b[39mself\u001b[39;49m\u001b[39m.\u001b[39;49mdxs_eval(E[i],x,a,b),E[i],\u001b[39m10\u001b[39m\u001b[39m*\u001b[39m\u001b[39m*\u001b[39m\u001b[39m4\u001b[39m)[\u001b[39m0\u001b[39m]\n\u001b[1;32m     80\u001b[0m \u001b[39m#getting the RHS matrix using cas.py\u001b[39;00m\n\u001b[1;32m     81\u001b[0m \u001b[39m# RHN = self.RHS_matrices(E, dxs_array)\u001b[39;00m\n\u001b[1;32m     83\u001b[0m DeltaE \u001b[39m=\u001b[39m np\u001b[39m.\u001b[39mdiff(np\u001b[39m.\u001b[39mlog(E))\n",
      "File \u001b[0;32m~/Documents/Research_work/Neutrino-GRB's/Neutrino-DM-scattering/Blazar/../blazar.py:58\u001b[0m, in \u001b[0;36mces.dxs_eval\u001b[0;34m(self, E, x, a, b)\u001b[0m\n\u001b[1;32m     56\u001b[0m \u001b[39mdef\u001b[39;00m \u001b[39mdxs_eval\u001b[39m(\u001b[39mself\u001b[39m, E, x, a, b):\n\u001b[1;32m     57\u001b[0m     model \u001b[39m=\u001b[39m \u001b[39mself\u001b[39m\u001b[39m.\u001b[39mmodel\n\u001b[0;32m---> 58\u001b[0m     \u001b[39mreturn\u001b[39;00m \u001b[39meval\u001b[39;49m(model\u001b[39m.\u001b[39;49mdxs)\n",
      "File \u001b[0;32m<string>:1\u001b[0m\n",
      "\u001b[0;31mKeyboardInterrupt\u001b[0m: "
     ]
    }
   ],
   "source": [
    "ces.events(Emin=290,Emax=10**4,t_obs= 898*24*3600)"
   ]
  },
  {
   "cell_type": "code",
   "execution_count": null,
   "metadata": {},
   "outputs": [],
   "source": []
  }
 ],
 "metadata": {
  "kernelspec": {
   "display_name": "photon",
   "language": "python",
   "name": "python3"
  },
  "language_info": {
   "codemirror_mode": {
    "name": "ipython",
    "version": 3
   },
   "file_extension": ".py",
   "mimetype": "text/x-python",
   "name": "python",
   "nbconvert_exporter": "python",
   "pygments_lexer": "ipython3",
   "version": "3.10.4"
  },
  "orig_nbformat": 4
 },
 "nbformat": 4,
 "nbformat_minor": 2
}
