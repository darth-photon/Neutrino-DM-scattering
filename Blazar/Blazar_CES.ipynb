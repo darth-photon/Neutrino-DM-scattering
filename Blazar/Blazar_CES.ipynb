{
 "cells": [
  {
   "cell_type": "code",
   "execution_count": 1,
   "metadata": {},
   "outputs": [
    {
     "name": "stdout",
     "output_type": "stream",
     "text": [
      "  ______     ___           _______.  ______     ___       _______   _______ \n",
      " /      |   /   \\         /       | /      |   /   \\     |       \\ |   ____|\n",
      "|  ,----'  /  ^  \\       |   (----`|  ,----'  /  ^  \\    |  .--.  ||  |__   \n",
      "|  |      /  /_\\  \\       \\   \\    |  |      /  /_\\  \\   |  |  |  ||   __|  \n",
      "|  `----./  _____  \\  .----)   |   |  `----./  _____  \\  |  '--'  ||  |____ \n",
      " \\______/__/     \\__\\ |_______/     \\______/__/     \\__\\ |_______/ |_______|\n",
      "                                                                            \n",
      "     _______.  ______    __      ____    ____  _______ .______      \n",
      "    /       | /  __  \\  |  |     \\   \\  /   / |   ____||   _  \\     \n",
      "   |   (----`|  |  |  | |  |      \\   \\/   /  |  |__   |  |_)  |    \n",
      "    \\   \\    |  |  |  | |  |       \\      /   |   __|  |      /     \n",
      ".----)   |   |  `--'  | |  `----.   \\    /    |  |____ |  |\\  \\----.\n",
      "|_______/     \\______/  |_______|    \\__/     |_______|| _| `._____|\n",
      "                                                                    \n",
      "\n",
      "*******************************************\n",
      "Dark Matter - Neutrino Scattering in Blazars\n",
      "\n",
      "Author: シヴァサンカール ShivaSankar K.A \n",
      "\n",
      "Affiliation: 素粒子物理、北海道大学\n",
      "\n",
      "Email: shivasankar.ka@gmail.com\n",
      "*******************************************\n"
     ]
    }
   ],
   "source": [
    "import sys\n",
    "src_path = \"../\"\n",
    "sys.path.append(src_path)\n",
    "from blazar import *"
   ]
  },
  {
   "cell_type": "code",
   "execution_count": 2,
   "metadata": {},
   "outputs": [],
   "source": [
    "model = Model(\"blazar\", path=\"./\")\n",
    "ces = ces()"
   ]
  },
  {
   "cell_type": "code",
   "execution_count": 3,
   "metadata": {},
   "outputs": [
    {
     "name": "stdout",
     "output_type": "stream",
     "text": [
      "Flux intialized: 10**(-13.22 - (1.498*np.log10(E))/(1 + -0.00167 * np.abs(np.log10(E))**4.119))\n",
      "Cross section intialized: (a/b)*(1 - 1/(2*b*E) * np.log(1 + 2*b* E))\n",
      "Flux Intialized: a*(E/x)*1/((1+2*b*(x-E))**2)\n",
      "Effective Area Intialized: 10**(3.57 + 2.007*np.log10(E) -0.5263* np.log10(E)**2 +0.0922 * np.log10(E)**3 -0.0072* np.log10(E)**4)\n"
     ]
    }
   ],
   "source": [
    "F0 = 13.22\n",
    "F1 = 1.498\n",
    "F2 = -0.00167\n",
    "F3 = 4.119\n",
    "\n",
    "model.add_input(\n",
    "flux=\"10**(-\"+str(F0)+\" - (\"+str(F1)+\"*np.log10(E))/(1 + \"+str(F2)+\" * np.abs(np.log10(E))**\"+str(F3)+\"))\",\n",
    "cross_section=\"(a/b)*(1 - 1/(2*b*E) * np.log(1 + 2*b* E))\",\n",
    "diff_cross_section=\"a*(E/x)*1/((1+2*b*(x-E))**2)\",\n",
    "Effective_area=\"10**(3.57 + 2.007*np.log10(E) -0.5263* np.log10(E)**2 +0.0922 * np.log10(E)**3 -0.0072* np.log10(E)**4)\")"
   ]
  },
  {
   "cell_type": "code",
   "execution_count": 4,
   "metadata": {},
   "outputs": [],
   "source": [
    "ces.set_model(model=model)"
   ]
  },
  {
   "cell_type": "code",
   "execution_count": 5,
   "metadata": {},
   "outputs": [
    {
     "name": "stdout",
     "output_type": "stream",
     "text": [
      "Calculating........."
     ]
    }
   ],
   "source": [
    "ces.events(Emin=290,Emax=10**4,t_obs= 898*24*3600)"
   ]
  }
 ],
 "metadata": {
  "kernelspec": {
   "display_name": "photon",
   "language": "python",
   "name": "python3"
  },
  "language_info": {
   "codemirror_mode": {
    "name": "ipython",
    "version": 3
   },
   "file_extension": ".py",
   "mimetype": "text/x-python",
   "name": "python",
   "nbconvert_exporter": "python",
   "pygments_lexer": "ipython3",
   "version": "3.10.4"
  },
  "orig_nbformat": 4
 },
 "nbformat": 4,
 "nbformat_minor": 2
}
